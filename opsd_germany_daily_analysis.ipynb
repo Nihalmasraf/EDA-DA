import pandas as pd
import matplotlib.pyplot as plt
import seaborn as sns

# Load the dataset
url = "https://raw.githubusercontent.com/salemprakash/EDA/main/Data/opsd_germany_daily.csv"
df = pd.read_csv(url, parse_dates=['Date'], index_col='Date')

# Display the first few rows
print(df.head())

# Summary of the dataset
print(df.info())

# Checking for missing values
print(df.isnull().sum())

# Descriptive statistics
print(df.describe())

# Plotting the time series data
plt.figure(figsize=(14, 6))
plt.plot(df['Consumption'], label='Consumption')
plt.plot(df['Solar'], label='Solar')
plt.plot(df['Wind'], label='Wind')
plt.plot(df['Wind+Solar'], label='Wind+Solar')
plt.legend()
plt.title('Daily Power Generation and Consumption in Germany')
plt.xlabel('Date')
plt.ylabel('Megawatts (MW)')
plt.grid(True)
plt.show()
